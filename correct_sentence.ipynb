{
 "cells": [
  {
   "cell_type": "code",
   "execution_count": 1,
   "metadata": {},
   "outputs": [],
   "source": [
    "import numpy as np"
   ]
  },
  {
   "cell_type": "code",
   "execution_count": 43,
   "metadata": {},
   "outputs": [
    {
     "data": {
      "text/plain": [
       "680"
      ]
     },
     "execution_count": 43,
     "metadata": {},
     "output_type": "execute_result"
    }
   ],
   "source": [
    "import os\n",
    "file_list = os.listdir(\"./Train\")\n",
    "\n",
    "len(file_list)"
   ]
  },
  {
   "cell_type": "code",
   "execution_count": 52,
   "metadata": {},
   "outputs": [
    {
     "data": {
      "text/plain": [
       "226"
      ]
     },
     "execution_count": 52,
     "metadata": {},
     "output_type": "execute_result"
    }
   ],
   "source": [
    "file_list = os.listdir(\"./Test_test\")\n",
    "\n",
    "len(file_list)"
   ]
  },
  {
   "cell_type": "code",
   "execution_count": 34,
   "metadata": {},
   "outputs": [
    {
     "name": "stdout",
     "output_type": "stream",
     "text": [
      "None\n"
     ]
    }
   ],
   "source": [
    "#for file in file_list:\n",
    "file = 'ID-01-15-N-KSW-04-M-53-JL.csv'\n",
    "f = open(\"./Train/\"+file, 'r',encoding='cp949')\n",
    "a = f.readline()\n",
    "re = f.close()\n",
    "# f = open(\"./Train/\"+file, 'w',encoding='cp949')\n",
    "# f.write(\"Q,A\\n\")\n",
    "# f.write(a)\n",
    "# f.close()\n",
    "print(re)\n",
    "        "
   ]
  },
  {
   "cell_type": "code",
   "execution_count": 45,
   "metadata": {},
   "outputs": [
    {
     "data": {
      "text/html": [
       "<div>\n",
       "<style scoped>\n",
       "    .dataframe tbody tr th:only-of-type {\n",
       "        vertical-align: middle;\n",
       "    }\n",
       "\n",
       "    .dataframe tbody tr th {\n",
       "        vertical-align: top;\n",
       "    }\n",
       "\n",
       "    .dataframe thead th {\n",
       "        text-align: right;\n",
       "    }\n",
       "</style>\n",
       "<table border=\"1\" class=\"dataframe\">\n",
       "  <thead>\n",
       "    <tr style=\"text-align: right;\">\n",
       "      <th></th>\n",
       "      <th>Q</th>\n",
       "      <th>A</th>\n",
       "    </tr>\n",
       "  </thead>\n",
       "  <tbody>\n",
       "    <tr>\n",
       "      <th>0</th>\n",
       "      <td>문 열어 문 열어 나무가 많아 나무가 많아 내일 만나 내일 만나 이제 내려 이제 내...</td>\n",
       "      <td>문 열어. 문 열어? 나무가 많아. 나무가 많아? 내일 만나. 내일 만나? 이제 내...</td>\n",
       "    </tr>\n",
       "  </tbody>\n",
       "</table>\n",
       "</div>"
      ],
      "text/plain": [
       "                                                   Q  \\\n",
       "0  문 열어 문 열어 나무가 많아 나무가 많아 내일 만나 내일 만나 이제 내려 이제 내...   \n",
       "\n",
       "                                                   A  \n",
       "0  문 열어. 문 열어? 나무가 많아. 나무가 많아? 내일 만나. 내일 만나? 이제 내...  "
      ]
     },
     "execution_count": 45,
     "metadata": {},
     "output_type": "execute_result"
    }
   ],
   "source": [
    "import pandas as pd\n",
    "df = pd.read_csv(\"./Train/ID-02-21-N-BSR-02-02-M-32-GS2.csv\",encoding='cp949')\n",
    "df"
   ]
  },
  {
   "cell_type": "code",
   "execution_count": 36,
   "metadata": {},
   "outputs": [],
   "source": [
    "for file in file_list:\n",
    "    f = open(\"./Train_test/\"+file, 'r', encoding='cp949')\n",
    "    line = f.readline()\n",
    "    f.close()\n",
    "    f = open(\"./Train/\"+file, 'w', encoding='cp949')\n",
    "    f.write(\"Q,A\\n\")\n",
    "    f.write(line)\n",
    "    f.close()"
   ]
  },
  {
   "cell_type": "code",
   "execution_count": 53,
   "metadata": {},
   "outputs": [],
   "source": [
    "for file in file_list:\n",
    "    f = open(\"./Test_test/\"+file, 'r', encoding='cp949')\n",
    "    line = f.readline()\n",
    "    f.close()\n",
    "    f = open(\"./Test/\"+file, 'w', encoding='cp949')\n",
    "    f.write(\"Q,A\\n\")\n",
    "    f.write(line)\n",
    "    f.close()"
   ]
  },
  {
   "cell_type": "code",
   "execution_count": 54,
   "metadata": {},
   "outputs": [],
   "source": [
    "for file in file_list:\n",
    "    f = open(\"./Test_test/\"+file, 'r', encoding='cp949')\n",
    "    line = f.readline()\n",
    "    f.close()\n",
    "    if(len(line) >1024):\n",
    "        os.remove(\"./Test/\"+file)"
   ]
  },
  {
   "cell_type": "code",
   "execution_count": 41,
   "metadata": {},
   "outputs": [],
   "source": [
    "for file in file_list:\n",
    "    f = open(\"./Train_test/\"+file, 'r', encoding='cp949')\n",
    "    line = f.readline()\n",
    "    f.close()\n",
    "    if(len(line) >1024):\n",
    "        os.remove(\"./Train/\"+file)\n"
   ]
  },
  {
   "cell_type": "code",
   "execution_count": null,
   "metadata": {},
   "outputs": [],
   "source": []
  },
  {
   "cell_type": "code",
   "execution_count": null,
   "metadata": {},
   "outputs": [],
   "source": []
  },
  {
   "cell_type": "code",
   "execution_count": 56,
   "metadata": {},
   "outputs": [
    {
     "data": {
      "text/html": [
       "<div>\n",
       "<style scoped>\n",
       "    .dataframe tbody tr th:only-of-type {\n",
       "        vertical-align: middle;\n",
       "    }\n",
       "\n",
       "    .dataframe tbody tr th {\n",
       "        vertical-align: top;\n",
       "    }\n",
       "\n",
       "    .dataframe thead th {\n",
       "        text-align: right;\n",
       "    }\n",
       "</style>\n",
       "<table border=\"1\" class=\"dataframe\">\n",
       "  <thead>\n",
       "    <tr style=\"text-align: right;\">\n",
       "      <th></th>\n",
       "      <th>Q</th>\n",
       "      <th>A</th>\n",
       "    </tr>\n",
       "  </thead>\n",
       "  <tbody>\n",
       "    <tr>\n",
       "      <th>0</th>\n",
       "      <td>나는 바지를 입고 단추를 채웁니다 책상 위에 가방이 있습니다 가방에 사탕과 연필을 ...</td>\n",
       "      <td>나는 바지를 입고 단추를 채웁니다. 책상 위에 가방이 있습니다. 가방에 사탕과 연필...</td>\n",
       "    </tr>\n",
       "    <tr>\n",
       "      <th>1</th>\n",
       "      <td>나는 바지를 입고 단추를 채웁니다 책상 위에 가방이 있습니다 가방에 사탕과 연필을 ...</td>\n",
       "      <td>나는 바지를 입고 단추를 채웁니다. 책상 위에 가방이 있습니다. 가방에 사탕과 연필...</td>\n",
       "    </tr>\n",
       "    <tr>\n",
       "      <th>2</th>\n",
       "      <td>문 열어 문 열어 나무가 많아 나무가 많아 내일 만나 내일 만나 이제 내려와 이제 ...</td>\n",
       "      <td>문 열어. 문 열어? 나무가 많아. 나무가 많아? 내일 만나. 내일 만나? 이제 내...</td>\n",
       "    </tr>\n",
       "    <tr>\n",
       "      <th>3</th>\n",
       "      <td>나는 바지를 입고 단추를 채웁니다 책상 위에 가방이 있습니다 가방에 사탕과 연필을 ...</td>\n",
       "      <td>나는 바지를 입고 단추를 채웁니다. 책상 위에 가방이 있습니다. 가방에 사탕과 연필...</td>\n",
       "    </tr>\n",
       "    <tr>\n",
       "      <th>4</th>\n",
       "      <td>단축 책상 아방 피트 자동차 동물원 엄마 뽀뽀 호랑이 꼬리 코끼리 땅콩 비트 홍성 ...</td>\n",
       "      <td>바지 단추 책상 가방 사탕 연필 자동차 동물원 엄마 뽀뽀 호랑이 꼬리 코끼리 땅콩 ...</td>\n",
       "    </tr>\n",
       "  </tbody>\n",
       "</table>\n",
       "</div>"
      ],
      "text/plain": [
       "                                                   Q  \\\n",
       "0  나는 바지를 입고 단추를 채웁니다 책상 위에 가방이 있습니다 가방에 사탕과 연필을 ...   \n",
       "1  나는 바지를 입고 단추를 채웁니다 책상 위에 가방이 있습니다 가방에 사탕과 연필을 ...   \n",
       "2  문 열어 문 열어 나무가 많아 나무가 많아 내일 만나 내일 만나 이제 내려와 이제 ...   \n",
       "3  나는 바지를 입고 단추를 채웁니다 책상 위에 가방이 있습니다 가방에 사탕과 연필을 ...   \n",
       "4  단축 책상 아방 피트 자동차 동물원 엄마 뽀뽀 호랑이 꼬리 코끼리 땅콩 비트 홍성 ...   \n",
       "\n",
       "                                                   A  \n",
       "0  나는 바지를 입고 단추를 채웁니다. 책상 위에 가방이 있습니다. 가방에 사탕과 연필...  \n",
       "1  나는 바지를 입고 단추를 채웁니다. 책상 위에 가방이 있습니다. 가방에 사탕과 연필...  \n",
       "2  문 열어. 문 열어? 나무가 많아. 나무가 많아? 내일 만나. 내일 만나? 이제 내...  \n",
       "3  나는 바지를 입고 단추를 채웁니다. 책상 위에 가방이 있습니다. 가방에 사탕과 연필...  \n",
       "4  바지 단추 책상 가방 사탕 연필 자동차 동물원 엄마 뽀뽀 호랑이 꼬리 코끼리 땅콩 ...  "
      ]
     },
     "execution_count": 56,
     "metadata": {},
     "output_type": "execute_result"
    }
   ],
   "source": [
    "import pandas as pd\n",
    "import csv\n",
    "file_list = os.listdir(\"./Test\")\n",
    "df\n",
    "dfs = []\n",
    "for file in file_list:\n",
    "    df = pd.read_csv(\"./Test/\"+file, encoding='cp949',quoting=csv.QUOTE_NONE)\n",
    "    dfs.append(df)\n",
    "    \n",
    "merged_df = pd.concat(dfs, ignore_index=True)\n",
    "\n",
    "merged_df.head()"
   ]
  },
  {
   "cell_type": "code",
   "execution_count": 46,
   "metadata": {},
   "outputs": [
    {
     "data": {
      "text/html": [
       "<div>\n",
       "<style scoped>\n",
       "    .dataframe tbody tr th:only-of-type {\n",
       "        vertical-align: middle;\n",
       "    }\n",
       "\n",
       "    .dataframe tbody tr th {\n",
       "        vertical-align: top;\n",
       "    }\n",
       "\n",
       "    .dataframe thead th {\n",
       "        text-align: right;\n",
       "    }\n",
       "</style>\n",
       "<table border=\"1\" class=\"dataframe\">\n",
       "  <thead>\n",
       "    <tr style=\"text-align: right;\">\n",
       "      <th></th>\n",
       "      <th>Q</th>\n",
       "      <th>A</th>\n",
       "    </tr>\n",
       "  </thead>\n",
       "  <tbody>\n",
       "    <tr>\n",
       "      <th>0</th>\n",
       "      <td>거울 안경 전화 신발 나무 가위 사과 모자 풍선 당근 연필 기차 나에게 창문 동생 ...</td>\n",
       "      <td>거울 연필 그림 신발 병원 그림</td>\n",
       "    </tr>\n",
       "    <tr>\n",
       "      <th>1</th>\n",
       "      <td>책상 위에 가방이 있습니다 가방의 사탄과 연필을 넣을 거예요 아빠와 자동차를 타고 ...</td>\n",
       "      <td>책상 위에 가방이 있습니다. 가방에 사탕과 연필을 넣을 거예요. 아빠와 자동차를 타...</td>\n",
       "    </tr>\n",
       "    <tr>\n",
       "      <th>2</th>\n",
       "      <td>밥 먹었어 밥 먹었어 집에 아무도 없겠지 하면서 거기 갈래 관리가 없지 내가 없지 ...</td>\n",
       "      <td>밥 먹었죠. 밥 먹었죠? 집에 아무도 없겠지. 집에 아무도 없겠지? 발이 얼었어요....</td>\n",
       "    </tr>\n",
       "    <tr>\n",
       "      <th>3</th>\n",
       "      <td>나는 바지를 입고 단순한 체험이다 책장 위에 가방이 있습니다 가방에 잤던 거 연비는...</td>\n",
       "      <td>나는 바지를 입고 단추를 채웁니다. 책상 위에 가방이 있습니다. 가방에 사탕과 연필...</td>\n",
       "    </tr>\n",
       "    <tr>\n",
       "      <th>4</th>\n",
       "      <td>금요일</td>\n",
       "      <td>토요일입니다. 설날은 구월 이십일일입니다. 크리스마스는 십이월 이십오일입니다. 지...</td>\n",
       "    </tr>\n",
       "  </tbody>\n",
       "</table>\n",
       "</div>"
      ],
      "text/plain": [
       "                                                   Q  \\\n",
       "0  거울 안경 전화 신발 나무 가위 사과 모자 풍선 당근 연필 기차 나에게 창문 동생 ...   \n",
       "1  책상 위에 가방이 있습니다 가방의 사탄과 연필을 넣을 거예요 아빠와 자동차를 타고 ...   \n",
       "2  밥 먹었어 밥 먹었어 집에 아무도 없겠지 하면서 거기 갈래 관리가 없지 내가 없지 ...   \n",
       "3  나는 바지를 입고 단순한 체험이다 책장 위에 가방이 있습니다 가방에 잤던 거 연비는...   \n",
       "4                                                금요일   \n",
       "\n",
       "                                                   A  \n",
       "0                                  거울 연필 그림 신발 병원 그림  \n",
       "1  책상 위에 가방이 있습니다. 가방에 사탕과 연필을 넣을 거예요. 아빠와 자동차를 타...  \n",
       "2  밥 먹었죠. 밥 먹었죠? 집에 아무도 없겠지. 집에 아무도 없겠지? 발이 얼었어요....  \n",
       "3  나는 바지를 입고 단추를 채웁니다. 책상 위에 가방이 있습니다. 가방에 사탕과 연필...  \n",
       "4   토요일입니다. 설날은 구월 이십일일입니다. 크리스마스는 십이월 이십오일입니다. 지...  "
      ]
     },
     "execution_count": 46,
     "metadata": {},
     "output_type": "execute_result"
    }
   ],
   "source": [
    "import pandas as pd\n",
    "import csv\n",
    "\n",
    "\n",
    "\n",
    "df\n",
    "dfs = []\n",
    "for file in file_list:\n",
    "    df = pd.read_csv(\"./Train/\"+file, encoding='cp949',quoting=csv.QUOTE_NONE)\n",
    "    dfs.append(df)\n",
    "    \n",
    "merged_df = pd.concat(dfs, ignore_index=True)\n",
    "\n",
    "merged_df.head()"
   ]
  },
  {
   "cell_type": "code",
   "execution_count": 57,
   "metadata": {},
   "outputs": [
    {
     "data": {
      "text/plain": [
       "203"
      ]
     },
     "execution_count": 57,
     "metadata": {},
     "output_type": "execute_result"
    }
   ],
   "source": [
    "len(merged_df)"
   ]
  },
  {
   "cell_type": "code",
   "execution_count": 58,
   "metadata": {},
   "outputs": [],
   "source": [
    "merged_df.to_csv('voice_test.csv',index=False,encoding='utf-8-sig',errors='replace')"
   ]
  },
  {
   "cell_type": "code",
   "execution_count": null,
   "metadata": {},
   "outputs": [],
   "source": []
  }
 ],
 "metadata": {
  "kernelspec": {
   "display_name": "Python 3",
   "language": "python",
   "name": "python3"
  },
  "language_info": {
   "codemirror_mode": {
    "name": "ipython",
    "version": 3
   },
   "file_extension": ".py",
   "mimetype": "text/x-python",
   "name": "python",
   "nbconvert_exporter": "python",
   "pygments_lexer": "ipython3",
   "version": "3.8.10"
  },
  "orig_nbformat": 4
 },
 "nbformat": 4,
 "nbformat_minor": 2
}
